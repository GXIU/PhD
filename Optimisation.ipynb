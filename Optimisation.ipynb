{
 "cells": [
  {
   "cell_type": "markdown",
   "metadata": {},
   "source": [
    "- 优化函数"
   ]
  },
  {
   "cell_type": "code",
   "execution_count": 1,
   "metadata": {
    "collapsed": true
   },
   "outputs": [],
   "source": [
    "import networkx as nx\n",
    "import math\n",
    "import numpy as np\n",
    "import operator"
   ]
  },
  {
   "cell_type": "markdown",
   "metadata": {},
   "source": [
    "- 定义优化函数："
   ]
  },
  {
   "cell_type": "code",
   "execution_count": null,
   "metadata": {
    "collapsed": true
   },
   "outputs": [],
   "source": [
    "def optimisation_likelihood(graphe, constantes, theta_init=None, subgroup_of_nodes=None):\n",
    "    kappa0, gamma, beta, Nobs, k_bar = constantes\n",
    "    kappa = {node: max(kappa0, degree - gamma / beta) for node, degree in graphe.degree().items()}\n",
    "    mu = beta * math.sin(math.pi / beta) / (2 * math.pi * k_bar)\n",
    "    a = (nx.to_numpy_matrix(graphe)).A\n",
    "\n",
    "    if theta_init is None:\n",
    "        theta_current = 2 * math.pi * np.random.randint(0, Nobs, Nobs) / Nobs\n",
    "    else:\n",
    "        theta_current = theta_init\n",
    "\n",
    "    def localloglikelihood(theta_angle, node):\n",
    "        th2 = theta_current\n",
    "        dth = math.pi - np.abs(math.pi - np.abs(theta_angle - th2))\n",
    "        khi = Nobs * dth / 2 * math.pi * mu * kappa[node] * kappa.values()\n",
    "        p = 1 / (1 + khi ** beta)\n",
    "\n",
    "        lp = np.log(p)\n",
    "        lp[a[node] == 0] = 0\n",
    "        l_p = np.log(1 - p)\n",
    "        l_p[a[node] == 1] = 0\n",
    "        alp = lp + l_p\n",
    "        return np.sum(alp)\n",
    "\n",
    "    theta_test = np.linspace(0, 2 * math.pi, num=Nobs)\n",
    "\n",
    "    def maximize_locally(node):\n",
    "        \"\"\"\"\"\"\n",
    "        lll_vector = map(lambda theta_angle: localloglikelihood(theta_angle, node), theta_test)\n",
    "        theta_optimal = theta_test[np.argmax(lll_vector)]\n",
    "        return theta_optimal\n",
    "\n",
    "    if subgroup_of_nodes is None: subgroup_of_nodes = graphe.nodes()\n",
    "\n",
    "    best_theta = theta_init\n",
    "    best_likelihood = verifyloglikelihood(theta_init, graphe, constantes, silent=False)\n",
    "    nb_retours = 0\n",
    "    while (nb_retours < 2):\n",
    "        for node, degree in sorted(graphe.degree_iter(subgroup_of_nodes), key=operator.itemgetter(1), reverse=True):\n",
    "            theta_new = maximize_locally(node)\n",
    "            if degree == 2:\n",
    "                neighbor, neighbor_degree = max(graphe.degree_iter(graphe.neighbors(node)), key=operator.itemgetter(1))\n",
    "                theta_new2 = theta_current[neighbor]\n",
    "                print 2, theta_new, theta_new2\n",
    "            if degree == 1:\n",
    "                theta_new1 = theta_current[graphe.neighbors(node)[0]]\n",
    "                print 1, theta_new, theta_new1\n",
    "\n",
    "            theta_current[node] = theta_new\n",
    "        current_likelihood = verifyloglikelihood(theta_current, graphe, constantes, silent=False)\n",
    "        if current_likelihood < best_likelihood:\n",
    "            nb_retours += 1\n",
    "        else:\n",
    "            best_likelihood = current_likelihood\n",
    "            best_theta = theta_current\n",
    "            nb_retours = 0\n",
    "    return best_theta"
   ]
  },
  {
   "cell_type": "markdown",
   "metadata": {},
   "source": [
    "- 子图"
   ]
  },
  {
   "cell_type": "code",
   "execution_count": null,
   "metadata": {
    "collapsed": true
   },
   "outputs": [],
   "source": [
    "def subgraph_mapping(graphe, nodes_subgraph):\n",
    "    mapping_old_new = {}\n",
    "    mapping_new_old = {}\n",
    "    for i in range(len(nodes_subgraph)):\n",
    "        old = nodes_subgraph[i]\n",
    "        mapping_old_new[old] = i\n",
    "        mapping_new_old[i] = old\n",
    "        # new network\n",
    "    graphe_intermediaire = graphe.subgraph(nodes_subgraph)\n",
    "    graphe_intermediaire = nx.relabel_nodes(graphe_intermediaire, mapping_old_new)\n",
    "    return graphe_intermediaire, mapping_old_new, mapping_new_old"
   ]
  },
  {
   "cell_type": "code",
   "execution_count": null,
   "metadata": {
    "collapsed": true
   },
   "outputs": [],
   "source": [
    "def optimisation_par_etapes_likelihood(graphe, bornes, borne_lim, theta0, constantes, method=\"degree\"):\n",
    "    kappa0, gamma, beta, Nobs, k_bar = constantes\n",
    "    def optimisation_etape_likelihood(nodes_subgraph, nodes_evaluated, theta_global):\n",
    "        # rename nodes of new network\n",
    "        graphe_intermediaire, mapping_old_new, mapping_new_old = subgraph_mapping(graphe, nodes_subgraph)\n",
    "        # new \"constants\"\n",
    "        nodes_evaluated_local = map(lambda node: mapping_old_new[node], nodes_evaluated)\n",
    "        Nlocal = len(nodes_subgraph)\n",
    "        local_variables = kappa0, gamma, beta, Nlocal, k_bar\n",
    "        # optimize on subgraph\n",
    "        theta_init = np.asarray([theta_global[mapping_new_old[node]] for node in graphe_intermediaire])\n",
    "        theta_local_opt = optimisation_likelihood(graphe_intermediaire, local_variables,\n",
    "                                                  theta_init=theta_init,\n",
    "                                                  subgroup_of_nodes=nodes_evaluated_local)\n",
    "        # update theta values\n",
    "        theta_global_opt = theta_global\n",
    "\n",
    "        for node in graphe_intermediaire:\n",
    "            theta_global_opt[mapping_new_old[node]] = theta_local_opt[node]\n",
    "        return theta_global_opt\n",
    "    \n",
    "    if method == \"core_number\":\n",
    "        theta_current = theta0\n",
    "\n",
    "        core_dict = nx.core_number(graphe)\n",
    "        bornes = sorted(set(core_dict.values()), reverse=True)\n",
    "        borne_sup = float(\"inf\")\n",
    "        theta_precedent_centre = [theta_current[node] for node, core_num in core_dict.iteritems() if core_num == 27]\n",
    "        theta_courant_centre = [theta_current[node] for node, core_num in core_dict.iteritems() if core_num == 27]\n",
    "        for borne_inf in bornes:\n",
    "            nodes_subgraph = [node for node, core_number in core_dict.iteritems() if core_number >= borne_inf]\n",
    "            if borne_inf > borne_lim:\n",
    "                theta_current = optimisation_etape_likelihood(nodes_subgraph, nodes_subgraph, theta_current)\n",
    "                theta_courant_centre = [theta_current[node] for node, core_num in core_dict.iteritems() if\n",
    "                                        core_num == 27]\n",
    "                print borne_inf, np.mean(np.abs(\n",
    "                    math.pi - np.absolute(np.asarray(theta_courant_centre) - np.asarray(theta_precedent_centre)))), \\\n",
    "                    np.max(np.abs(\n",
    "                        math.pi - np.absolute(np.asarray(theta_courant_centre) - np.asarray(theta_precedent_centre))))\n",
    "                theta_precedent_centre = theta_courant_centre\n",
    "            else:\n",
    "                nodes_evaluated = [node for node, core_number in core_dict.iteritems() if\n",
    "                                   borne_sup > core_number >= borne_inf]\n",
    "                theta_current = optimisation_etape_likelihood(nodes_subgraph, nodes_evaluated, theta_current)\n",
    "            borne_sup = borne_inf\n",
    "\n",
    "    return theta_current"
   ]
  },
  {
   "cell_type": "code",
   "execution_count": null,
   "metadata": {
    "collapsed": true
   },
   "outputs": [],
   "source": [
    "def verifyloglikelihood(theta_vector, graphe, constantes, silent=False):\n",
    "    # aij\n",
    "    a = (nx.to_numpy_matrix(graphe)).A\n",
    "\n",
    "    # pij\n",
    "    kappa0, gamma, beta, Nobs, k_bar = constantes\n",
    "    mu = beta * math.sin(math.pi / beta) / (2 * math.pi * k_bar)\n",
    "    kappa = {node: max(kappa0, degree - gamma / beta) for node, degree in graphe.degree().items()}\n",
    "    kp = np.outer(np.ones(Nobs), kappa.values())\n",
    "    kp2 = np.outer(kappa.values(), np.ones(Nobs))\n",
    "    mukpkp2 = 2 * math.pi * mu * kp * kp2\n",
    "    th = np.outer(np.ones(Nobs), theta_vector)\n",
    "    th2 = np.outer(theta_vector, np.ones(Nobs))\n",
    "    dth = math.pi - np.abs(math.pi - np.abs(th - th2))\n",
    "    khi = Nobs * dth / mukpkp2\n",
    "    p = 1 / (1 + khi ** beta)\n",
    "\n",
    "    # log(pij)\n",
    "    lp = np.triu(np.log(p), k=1)\n",
    "    l_p = np.triu(np.log(1 - p), k=1)\n",
    "\n",
    "    # aij*log(pij)\n",
    "    lp[a == 0] = 0\n",
    "    l_p[a == 1] = 0\n",
    "    if not silent: print np.sum(lp + l_p), np.sum(lp), np.sum(l_p)\n",
    "    return np.sum(lp + l_p)"
   ]
  }
 ],
 "metadata": {
  "kernelspec": {
   "display_name": "Python 3",
   "language": "python",
   "name": "python3"
  },
  "language_info": {
   "codemirror_mode": {
    "name": "ipython",
    "version": 3
   },
   "file_extension": ".py",
   "mimetype": "text/x-python",
   "name": "python",
   "nbconvert_exporter": "python",
   "pygments_lexer": "ipython3",
   "version": "3.6.3"
  }
 },
 "nbformat": 4,
 "nbformat_minor": 2
}
