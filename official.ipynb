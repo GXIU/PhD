{
 "cells": [
  {
   "cell_type": "markdown",
   "metadata": {},
   "source": [
    "- 为了建立双曲映射，我们使用了爱因斯坦$\\mathbb H^2$模型与牛顿$\\mathbb S^1$模型的等价性。\n",
    "    - 期望度$\\kappa$与$r$的关系\n",
    "    - 角度：保持不变。\n",
    " 也就是说，给定了原始网络的度参数和角度参数，我们就可以得到双曲空间的坐标。\n",
    " 这种等价性是一种统计意义上的等价性。\n",
    " \n",
    " - 但是贪婪搜索在$\\mathbb H^2$上的效率更高！原因是在scale-free network中，双曲测地线与拓扑最短路径的意义是相同的。\n",
    " \n",
    " 所以我们利用双曲空间来解决routing问题，使用拓扑网络来建立因特网地图。\n",
    " \n",
    " 拓扑网络的优点：统计推断时，可以分别估计两个参数。$\\kappa$和$\\theta$. "
   ]
  },
  {
   "cell_type": "code",
   "execution_count": null,
   "metadata": {},
   "outputs": [],
   "source": []
  }
 ],
 "metadata": {
  "kernelspec": {
   "display_name": "Python 3",
   "language": "python",
   "name": "python3"
  },
  "language_info": {
   "codemirror_mode": {
    "name": "ipython",
    "version": 3
   },
   "file_extension": ".py",
   "mimetype": "text/x-python",
   "name": "python",
   "nbconvert_exporter": "python",
   "pygments_lexer": "ipython3",
   "version": "3.6.4"
  }
 },
 "nbformat": 4,
 "nbformat_minor": 2
}
